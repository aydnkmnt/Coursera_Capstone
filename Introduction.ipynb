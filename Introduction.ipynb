{
 "cells": [
  {
   "cell_type": "markdown",
   "metadata": {},
   "source": [
    "# Immigrants in Istanbul\n",
    "## Capstone Project - The Battle of Neighborhoods (Week 1-2)"
   ]
  },
  {
   "cell_type": "markdown",
   "metadata": {},
   "source": [
    "### Introduction"
   ]
  },
  {
   "cell_type": "markdown",
   "metadata": {},
   "source": [
    "#### Background"
   ]
  },
  {
   "cell_type": "markdown",
   "metadata": {},
   "source": [
    "Ever since 2011, one of the biggest humanitarian crises in history has begun to be experienced in Syria. More than 5.5 million Syrians were forced to leave their country.More than 5.5 million forced to flee from Syria's 3.2 million refugees are living in Turkey, ie more than half. The main source of urban population growth in Istanbul in the last seventy years is the migration.The Syrian refugees under temporary protection in Istanbul live in all 39 districts of Istanbul, even if they are of different density and numbers. The distribution of the Syrian refugees is very clearly concentrated on the European side. According to November 2016, 86% (411,318) of the Syrians covered by 478,850 temporary protection in Istanbul is located on the European side and 14% (67,532) on the Asian side. \n",
    "\n",
    "Despite the exceptions, it is seen that the places where refugees are most preferred / sheltered, poverty is common, conservatism-religiosity is evident, the social environment is resistant and relatively life is cheaper."
   ]
  },
  {
   "cell_type": "markdown",
   "metadata": {},
   "source": [
    "#### Business Problem"
   ]
  },
  {
   "cell_type": "markdown",
   "metadata": {},
   "source": [
    "Local governments wants to know population of immigrants in Istanbul. They know the amount of population; but what are the reasons on choosing borough? When the population increasing growth day by day and local governments have to know more details. It will be very useful for placing new immigrants incoming. Getting more information from boroughs where the immigrants live will be expands the visions and policies on them. We will obtain more data from researches and clustering by borough with additional data, will be using ML techniques with Foursquare."
   ]
  },
  {
   "cell_type": "code",
   "execution_count": null,
   "metadata": {},
   "outputs": [],
   "source": []
  }
 ],
 "metadata": {
  "kernelspec": {
   "display_name": "Python 3",
   "language": "python",
   "name": "python3"
  },
  "language_info": {
   "codemirror_mode": {
    "name": "ipython",
    "version": 3
   },
   "file_extension": ".py",
   "mimetype": "text/x-python",
   "name": "python",
   "nbconvert_exporter": "python",
   "pygments_lexer": "ipython3",
   "version": "3.6.8"
  }
 },
 "nbformat": 4,
 "nbformat_minor": 2
}
